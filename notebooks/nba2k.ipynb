{
 "cells": [
  {
   "attachments": {},
   "cell_type": "markdown",
   "metadata": {},
   "source": [
    "# Analysis of [NBA 2k20](https://www.kaggle.com/datasets/isaienkov/nba2k20-player-dataset)"
   ]
  },
  {
   "attachments": {},
   "cell_type": "markdown",
   "metadata": {},
   "source": [
    "### Load Packages and Data"
   ]
  },
  {
   "cell_type": "code",
   "execution_count": 1,
   "metadata": {},
   "outputs": [],
   "source": [
    "import os\n",
    "import numpy as np\n",
    "import pandas as pd\n",
    "import matplotlib as plt                "
   ]
  },
  {
   "cell_type": "code",
   "execution_count": 2,
   "metadata": {},
   "outputs": [],
   "source": [
    "project_root = os.path.abspath('..')\n",
    "# data_folder = os.path.join(project_root, 'data')\n",
    "csv_folder = os.path.join(project_root, 'data', 'csv')\n",
    "nba2k_csv = os.path.join(csv_folder, 'nba2k-full.csv')\n",
    "assert os.path.exists(nba2k_csv)\n",
    "\n",
    "nba2k20_df = pd.read_csv(nba2k_csv)"
   ]
  },
  {
   "attachments": {},
   "cell_type": "markdown",
   "metadata": {},
   "source": [
    "### Inspect the dataset"
   ]
  },
  {
   "cell_type": "code",
   "execution_count": 3,
   "metadata": {},
   "outputs": [
    {
     "name": "stdout",
     "output_type": "stream",
     "text": [
      "<class 'pandas.core.frame.DataFrame'>\n",
      "RangeIndex: 464 entries, 0 to 463\n",
      "Data columns (total 15 columns):\n",
      " #   Column       Non-Null Count  Dtype \n",
      "---  ------       --------------  ----- \n",
      " 0   full_name    464 non-null    object\n",
      " 1   rating       464 non-null    int64 \n",
      " 2   jersey       464 non-null    object\n",
      " 3   team         441 non-null    object\n",
      " 4   position     464 non-null    object\n",
      " 5   b_day        464 non-null    object\n",
      " 6   height       464 non-null    object\n",
      " 7   weight       464 non-null    object\n",
      " 8   salary       464 non-null    object\n",
      " 9   country      464 non-null    object\n",
      " 10  draft_year   464 non-null    int64 \n",
      " 11  draft_round  464 non-null    object\n",
      " 12  draft_peak   464 non-null    object\n",
      " 13  college      388 non-null    object\n",
      " 14  version      464 non-null    object\n",
      "dtypes: int64(2), object(13)\n",
      "memory usage: 54.5+ KB\n"
     ]
    }
   ],
   "source": [
    "# Create Deep Copy & Get metadata\n",
    "# nba2k20_df = df.copy()\n",
    "nba2k20_df.info()"
   ]
  },
  {
   "cell_type": "code",
   "execution_count": 4,
   "metadata": {},
   "outputs": [
    {
     "data": {
      "text/html": [
       "<div>\n",
       "<style scoped>\n",
       "    .dataframe tbody tr th:only-of-type {\n",
       "        vertical-align: middle;\n",
       "    }\n",
       "\n",
       "    .dataframe tbody tr th {\n",
       "        vertical-align: top;\n",
       "    }\n",
       "\n",
       "    .dataframe thead th {\n",
       "        text-align: right;\n",
       "    }\n",
       "</style>\n",
       "<table border=\"1\" class=\"dataframe\">\n",
       "  <thead>\n",
       "    <tr style=\"text-align: right;\">\n",
       "      <th></th>\n",
       "      <th>full_name</th>\n",
       "      <th>rating</th>\n",
       "      <th>jersey</th>\n",
       "      <th>team</th>\n",
       "      <th>position</th>\n",
       "      <th>b_day</th>\n",
       "      <th>height</th>\n",
       "      <th>weight</th>\n",
       "      <th>salary</th>\n",
       "      <th>country</th>\n",
       "      <th>draft_year</th>\n",
       "      <th>draft_round</th>\n",
       "      <th>draft_peak</th>\n",
       "      <th>college</th>\n",
       "      <th>version</th>\n",
       "    </tr>\n",
       "  </thead>\n",
       "  <tbody>\n",
       "    <tr>\n",
       "      <th>0</th>\n",
       "      <td>LeBron James</td>\n",
       "      <td>97</td>\n",
       "      <td>#23</td>\n",
       "      <td>Los Angeles Lakers</td>\n",
       "      <td>F</td>\n",
       "      <td>12/30/84</td>\n",
       "      <td>6-9 / 2.06</td>\n",
       "      <td>250 lbs. / 113.4 kg.</td>\n",
       "      <td>$37436858</td>\n",
       "      <td>USA</td>\n",
       "      <td>2003</td>\n",
       "      <td>1</td>\n",
       "      <td>1</td>\n",
       "      <td>NaN</td>\n",
       "      <td>NBA2k20</td>\n",
       "    </tr>\n",
       "    <tr>\n",
       "      <th>1</th>\n",
       "      <td>Kawhi Leonard</td>\n",
       "      <td>97</td>\n",
       "      <td>#2</td>\n",
       "      <td>Los Angeles Clippers</td>\n",
       "      <td>F</td>\n",
       "      <td>06/29/91</td>\n",
       "      <td>6-7 / 2.01</td>\n",
       "      <td>225 lbs. / 102.1 kg.</td>\n",
       "      <td>$32742000</td>\n",
       "      <td>USA</td>\n",
       "      <td>2011</td>\n",
       "      <td>1</td>\n",
       "      <td>15</td>\n",
       "      <td>San Diego State</td>\n",
       "      <td>NBA2k20</td>\n",
       "    </tr>\n",
       "    <tr>\n",
       "      <th>2</th>\n",
       "      <td>Giannis Antetokounmpo</td>\n",
       "      <td>96</td>\n",
       "      <td>#34</td>\n",
       "      <td>Milwaukee Bucks</td>\n",
       "      <td>F-G</td>\n",
       "      <td>12/06/94</td>\n",
       "      <td>6-11 / 2.11</td>\n",
       "      <td>242 lbs. / 109.8 kg.</td>\n",
       "      <td>$25842697</td>\n",
       "      <td>Greece</td>\n",
       "      <td>2013</td>\n",
       "      <td>1</td>\n",
       "      <td>15</td>\n",
       "      <td>NaN</td>\n",
       "      <td>NBA2k20</td>\n",
       "    </tr>\n",
       "    <tr>\n",
       "      <th>3</th>\n",
       "      <td>Kevin Durant</td>\n",
       "      <td>96</td>\n",
       "      <td>#7</td>\n",
       "      <td>Brooklyn Nets</td>\n",
       "      <td>F</td>\n",
       "      <td>09/29/88</td>\n",
       "      <td>6-10 / 2.08</td>\n",
       "      <td>230 lbs. / 104.3 kg.</td>\n",
       "      <td>$37199000</td>\n",
       "      <td>USA</td>\n",
       "      <td>2007</td>\n",
       "      <td>1</td>\n",
       "      <td>2</td>\n",
       "      <td>Texas</td>\n",
       "      <td>NBA2k20</td>\n",
       "    </tr>\n",
       "    <tr>\n",
       "      <th>4</th>\n",
       "      <td>James Harden</td>\n",
       "      <td>96</td>\n",
       "      <td>#13</td>\n",
       "      <td>Houston Rockets</td>\n",
       "      <td>G</td>\n",
       "      <td>08/26/89</td>\n",
       "      <td>6-5 / 1.96</td>\n",
       "      <td>220 lbs. / 99.8 kg.</td>\n",
       "      <td>$38199000</td>\n",
       "      <td>USA</td>\n",
       "      <td>2009</td>\n",
       "      <td>1</td>\n",
       "      <td>3</td>\n",
       "      <td>Arizona State</td>\n",
       "      <td>NBA2k20</td>\n",
       "    </tr>\n",
       "  </tbody>\n",
       "</table>\n",
       "</div>"
      ],
      "text/plain": [
       "               full_name  rating jersey                  team position  \\\n",
       "0           LeBron James      97    #23    Los Angeles Lakers        F   \n",
       "1          Kawhi Leonard      97     #2  Los Angeles Clippers        F   \n",
       "2  Giannis Antetokounmpo      96    #34       Milwaukee Bucks      F-G   \n",
       "3           Kevin Durant      96     #7         Brooklyn Nets        F   \n",
       "4           James Harden      96    #13       Houston Rockets        G   \n",
       "\n",
       "      b_day       height                weight     salary country  draft_year  \\\n",
       "0  12/30/84   6-9 / 2.06  250 lbs. / 113.4 kg.  $37436858     USA        2003   \n",
       "1  06/29/91   6-7 / 2.01  225 lbs. / 102.1 kg.  $32742000     USA        2011   \n",
       "2  12/06/94  6-11 / 2.11  242 lbs. / 109.8 kg.  $25842697  Greece        2013   \n",
       "3  09/29/88  6-10 / 2.08  230 lbs. / 104.3 kg.  $37199000     USA        2007   \n",
       "4  08/26/89   6-5 / 1.96   220 lbs. / 99.8 kg.  $38199000     USA        2009   \n",
       "\n",
       "  draft_round draft_peak          college  version  \n",
       "0           1          1              NaN  NBA2k20  \n",
       "1           1         15  San Diego State  NBA2k20  \n",
       "2           1         15              NaN  NBA2k20  \n",
       "3           1          2            Texas  NBA2k20  \n",
       "4           1          3    Arizona State  NBA2k20  "
      ]
     },
     "execution_count": 4,
     "metadata": {},
     "output_type": "execute_result"
    }
   ],
   "source": [
    "# Shows first 5 entries\n",
    "nba2k20_df.head()"
   ]
  },
  {
   "cell_type": "code",
   "execution_count": 5,
   "metadata": {},
   "outputs": [
    {
     "data": {
      "text/html": [
       "<div>\n",
       "<style scoped>\n",
       "    .dataframe tbody tr th:only-of-type {\n",
       "        vertical-align: middle;\n",
       "    }\n",
       "\n",
       "    .dataframe tbody tr th {\n",
       "        vertical-align: top;\n",
       "    }\n",
       "\n",
       "    .dataframe thead th {\n",
       "        text-align: right;\n",
       "    }\n",
       "</style>\n",
       "<table border=\"1\" class=\"dataframe\">\n",
       "  <thead>\n",
       "    <tr style=\"text-align: right;\">\n",
       "      <th></th>\n",
       "      <th>rating</th>\n",
       "      <th>draft_year</th>\n",
       "    </tr>\n",
       "  </thead>\n",
       "  <tbody>\n",
       "    <tr>\n",
       "      <th>count</th>\n",
       "      <td>464.000000</td>\n",
       "      <td>464.000000</td>\n",
       "    </tr>\n",
       "    <tr>\n",
       "      <th>mean</th>\n",
       "      <td>77.568966</td>\n",
       "      <td>2013.892241</td>\n",
       "    </tr>\n",
       "    <tr>\n",
       "      <th>std</th>\n",
       "      <td>6.933780</td>\n",
       "      <td>3.997465</td>\n",
       "    </tr>\n",
       "    <tr>\n",
       "      <th>min</th>\n",
       "      <td>67.000000</td>\n",
       "      <td>2001.000000</td>\n",
       "    </tr>\n",
       "    <tr>\n",
       "      <th>25%</th>\n",
       "      <td>73.000000</td>\n",
       "      <td>2011.000000</td>\n",
       "    </tr>\n",
       "    <tr>\n",
       "      <th>50%</th>\n",
       "      <td>76.000000</td>\n",
       "      <td>2015.000000</td>\n",
       "    </tr>\n",
       "    <tr>\n",
       "      <th>75%</th>\n",
       "      <td>80.000000</td>\n",
       "      <td>2017.000000</td>\n",
       "    </tr>\n",
       "    <tr>\n",
       "      <th>max</th>\n",
       "      <td>97.000000</td>\n",
       "      <td>2019.000000</td>\n",
       "    </tr>\n",
       "  </tbody>\n",
       "</table>\n",
       "</div>"
      ],
      "text/plain": [
       "           rating   draft_year\n",
       "count  464.000000   464.000000\n",
       "mean    77.568966  2013.892241\n",
       "std      6.933780     3.997465\n",
       "min     67.000000  2001.000000\n",
       "25%     73.000000  2011.000000\n",
       "50%     76.000000  2015.000000\n",
       "75%     80.000000  2017.000000\n",
       "max     97.000000  2019.000000"
      ]
     },
     "execution_count": 5,
     "metadata": {},
     "output_type": "execute_result"
    }
   ],
   "source": [
    "# Outputs statistical summary of quantitiave columns\n",
    "nba2k20_df.describe()"
   ]
  },
  {
   "attachments": {},
   "cell_type": "markdown",
   "metadata": {},
   "source": [
    "### Transform the Data"
   ]
  },
  {
   "attachments": {},
   "cell_type": "markdown",
   "metadata": {},
   "source": [
    "1. jersey/salary: remove leading ```#``` & ```$``` respectively"
   ]
  },
  {
   "cell_type": "code",
   "execution_count": 6,
   "metadata": {},
   "outputs": [],
   "source": [
    "cols = ['jersey', 'salary']\n",
    "nba2k20_df[cols] = nba2k20_df[cols].apply(lambda x: x.str.lstrip('#$').astype('int64'))\n",
    "\n",
    "# Style the salary column to be human readable - note this only changes output not datatype\n",
    "# nba2k20_df.style.format({'salary': '${0:,.0f}'})"
   ]
  },
  {
   "attachments": {},
   "cell_type": "markdown",
   "metadata": {},
   "source": [
    "2. team:\n",
    "- create abbreviation mapping (i.e. Los Angeles Lakers -> LAL)\n",
    "- impute missing values"
   ]
  },
  {
   "cell_type": "code",
   "execution_count": 7,
   "metadata": {},
   "outputs": [],
   "source": [
    "team_abbreviations = {\n",
    "    'Atlanta Hawks': 'ATL',\n",
    "    'Boston Celtics': 'BOS',\n",
    "    'Charlotte Hornets': 'CHA',\n",
    "    'Chicago Bulls': 'CHI',\n",
    "    'Cleveland Cavaliers': 'CLE',\n",
    "    'Dallas Mavericks': 'DAL',\n",
    "    'Denver Nuggets': 'DEN',\n",
    "    'Detroit Pistons': 'DET',\n",
    "    'Golden State Warriors': 'GSW',\n",
    "    'Houston Rockets': 'HOU',\n",
    "    'Indiana Pacers': 'IND',\n",
    "    'Los Angeles Clippers': 'LAC',\n",
    "    'Los Angeles Lakers': 'LAL',\n",
    "    'Memphis Grizzlies': 'MEM',\n",
    "    'Miami Heat': 'MIA',\n",
    "    'Milwaukee Bucks': 'MIL',\n",
    "    'Minnesota Timberwolves': 'MIN',\n",
    "    'New Orleans Pelicans': 'NOH',\n",
    "    'New York Knicks': 'NYK',\n",
    "    'Brooklyn Nets': 'BKN',\n",
    "    'Oklahoma City Thunder': 'OKC',\n",
    "    'Orlando Magic': 'ORL',\n",
    "    'Philadelphia 76ers': 'PHI',\n",
    "    'Phoenix Suns': 'PHO',\n",
    "    'Portland Trail Blazers': 'POR',\n",
    "    'Sacramento Kings': 'SAC',\n",
    "    'San Antonio Spurs': 'SAS',\n",
    "    'Toronto Raptors': 'TOR',\n",
    "    'Utah Jazz': 'UTH',\n",
    "    'Washington Wizards': 'WAS'\n",
    "}\n",
    "nba2k20_df['team'] = nba2k20_df.team.map(team_abbreviations).fillna('Free Agent')"
   ]
  },
  {
   "attachments": {},
   "cell_type": "markdown",
   "metadata": {},
   "source": [
    "3. b_day: convert to DateTime"
   ]
  },
  {
   "cell_type": "code",
   "execution_count": 8,
   "metadata": {},
   "outputs": [],
   "source": [
    "nba2k20_df['b_day'] = pd.to_datetime(nba2k20_df.b_day)"
   ]
  },
  {
   "attachments": {},
   "cell_type": "markdown",
   "metadata": {},
   "source": [
    "4. height: convert to float (in feet)"
   ]
  },
  {
   "cell_type": "code",
   "execution_count": 9,
   "metadata": {},
   "outputs": [],
   "source": [
    "# Extract the meters from the column and turn it into a float\n",
    "height_meters = nba2k20_df.height.str[-4:].astype('float64')\n",
    "\n",
    "# Conversion factor to feet\n",
    "meters2feet = 3.28084\n",
    "\n",
    "# Replace Height column\n",
    "nba2k20_df['height'] = np.round(height_meters * meters2feet, 2)"
   ]
  },
  {
   "attachments": {},
   "cell_type": "markdown",
   "metadata": {},
   "source": [
    "5. weight: convert to int (in pounds)"
   ]
  },
  {
   "cell_type": "code",
   "execution_count": 10,
   "metadata": {},
   "outputs": [],
   "source": [
    "nba2k20_df['weight'] = nba2k20_df.weight.str[:3].astype('int64')"
   ]
  },
  {
   "attachments": {},
   "cell_type": "markdown",
   "metadata": {},
   "source": [
    "6. draft_round/peak: replace 'Undrafted' with 0 and convert to int"
   ]
  },
  {
   "cell_type": "code",
   "execution_count": 11,
   "metadata": {},
   "outputs": [],
   "source": [
    "draft_columns = ['draft_round', 'draft_peak']\n",
    "nba2k20_df[draft_columns] = nba2k20_df[draft_columns] \\\n",
    "                            .apply(lambda x: x.str.replace('Undrafted', '0') \\\n",
    "                            .astype('int64'))"
   ]
  },
  {
   "attachments": {},
   "cell_type": "markdown",
   "metadata": {},
   "source": [
    "7. college: impute missing values"
   ]
  },
  {
   "cell_type": "code",
   "execution_count": 12,
   "metadata": {},
   "outputs": [],
   "source": [
    "nba2k20_df['college'] = nba2k20_df.college.fillna('No College')"
   ]
  },
  {
   "cell_type": "code",
   "execution_count": 13,
   "metadata": {},
   "outputs": [
    {
     "name": "stdout",
     "output_type": "stream",
     "text": [
      "<class 'pandas.core.frame.DataFrame'>\n",
      "RangeIndex: 464 entries, 0 to 463\n",
      "Data columns (total 15 columns):\n",
      " #   Column       Non-Null Count  Dtype         \n",
      "---  ------       --------------  -----         \n",
      " 0   full_name    464 non-null    object        \n",
      " 1   rating       464 non-null    int64         \n",
      " 2   jersey       464 non-null    int64         \n",
      " 3   team         464 non-null    object        \n",
      " 4   position     464 non-null    object        \n",
      " 5   b_day        464 non-null    datetime64[ns]\n",
      " 6   height       464 non-null    float64       \n",
      " 7   weight       464 non-null    int64         \n",
      " 8   salary       464 non-null    int64         \n",
      " 9   country      464 non-null    object        \n",
      " 10  draft_year   464 non-null    int64         \n",
      " 11  draft_round  464 non-null    int64         \n",
      " 12  draft_peak   464 non-null    int64         \n",
      " 13  college      464 non-null    object        \n",
      " 14  version      464 non-null    object        \n",
      "dtypes: datetime64[ns](1), float64(1), int64(7), object(6)\n",
      "memory usage: 54.5+ KB\n",
      "None\n"
     ]
    },
    {
     "data": {
      "text/html": [
       "<div>\n",
       "<style scoped>\n",
       "    .dataframe tbody tr th:only-of-type {\n",
       "        vertical-align: middle;\n",
       "    }\n",
       "\n",
       "    .dataframe tbody tr th {\n",
       "        vertical-align: top;\n",
       "    }\n",
       "\n",
       "    .dataframe thead th {\n",
       "        text-align: right;\n",
       "    }\n",
       "</style>\n",
       "<table border=\"1\" class=\"dataframe\">\n",
       "  <thead>\n",
       "    <tr style=\"text-align: right;\">\n",
       "      <th></th>\n",
       "      <th>full_name</th>\n",
       "      <th>rating</th>\n",
       "      <th>jersey</th>\n",
       "      <th>team</th>\n",
       "      <th>position</th>\n",
       "      <th>b_day</th>\n",
       "      <th>height</th>\n",
       "      <th>weight</th>\n",
       "      <th>salary</th>\n",
       "      <th>country</th>\n",
       "      <th>draft_year</th>\n",
       "      <th>draft_round</th>\n",
       "      <th>draft_peak</th>\n",
       "      <th>college</th>\n",
       "      <th>version</th>\n",
       "    </tr>\n",
       "  </thead>\n",
       "  <tbody>\n",
       "    <tr>\n",
       "      <th>0</th>\n",
       "      <td>LeBron James</td>\n",
       "      <td>97</td>\n",
       "      <td>23</td>\n",
       "      <td>LAL</td>\n",
       "      <td>F</td>\n",
       "      <td>1984-12-30</td>\n",
       "      <td>6.76</td>\n",
       "      <td>250</td>\n",
       "      <td>37436858</td>\n",
       "      <td>USA</td>\n",
       "      <td>2003</td>\n",
       "      <td>1</td>\n",
       "      <td>1</td>\n",
       "      <td>No College</td>\n",
       "      <td>NBA2k20</td>\n",
       "    </tr>\n",
       "    <tr>\n",
       "      <th>1</th>\n",
       "      <td>Kawhi Leonard</td>\n",
       "      <td>97</td>\n",
       "      <td>2</td>\n",
       "      <td>LAC</td>\n",
       "      <td>F</td>\n",
       "      <td>1991-06-29</td>\n",
       "      <td>6.59</td>\n",
       "      <td>225</td>\n",
       "      <td>32742000</td>\n",
       "      <td>USA</td>\n",
       "      <td>2011</td>\n",
       "      <td>1</td>\n",
       "      <td>15</td>\n",
       "      <td>San Diego State</td>\n",
       "      <td>NBA2k20</td>\n",
       "    </tr>\n",
       "    <tr>\n",
       "      <th>2</th>\n",
       "      <td>Giannis Antetokounmpo</td>\n",
       "      <td>96</td>\n",
       "      <td>34</td>\n",
       "      <td>MIL</td>\n",
       "      <td>F-G</td>\n",
       "      <td>1994-12-06</td>\n",
       "      <td>6.92</td>\n",
       "      <td>242</td>\n",
       "      <td>25842697</td>\n",
       "      <td>Greece</td>\n",
       "      <td>2013</td>\n",
       "      <td>1</td>\n",
       "      <td>15</td>\n",
       "      <td>No College</td>\n",
       "      <td>NBA2k20</td>\n",
       "    </tr>\n",
       "    <tr>\n",
       "      <th>3</th>\n",
       "      <td>Kevin Durant</td>\n",
       "      <td>96</td>\n",
       "      <td>7</td>\n",
       "      <td>BKN</td>\n",
       "      <td>F</td>\n",
       "      <td>1988-09-29</td>\n",
       "      <td>6.82</td>\n",
       "      <td>230</td>\n",
       "      <td>37199000</td>\n",
       "      <td>USA</td>\n",
       "      <td>2007</td>\n",
       "      <td>1</td>\n",
       "      <td>2</td>\n",
       "      <td>Texas</td>\n",
       "      <td>NBA2k20</td>\n",
       "    </tr>\n",
       "    <tr>\n",
       "      <th>4</th>\n",
       "      <td>James Harden</td>\n",
       "      <td>96</td>\n",
       "      <td>13</td>\n",
       "      <td>HOU</td>\n",
       "      <td>G</td>\n",
       "      <td>1989-08-26</td>\n",
       "      <td>6.43</td>\n",
       "      <td>220</td>\n",
       "      <td>38199000</td>\n",
       "      <td>USA</td>\n",
       "      <td>2009</td>\n",
       "      <td>1</td>\n",
       "      <td>3</td>\n",
       "      <td>Arizona State</td>\n",
       "      <td>NBA2k20</td>\n",
       "    </tr>\n",
       "  </tbody>\n",
       "</table>\n",
       "</div>"
      ],
      "text/plain": [
       "               full_name  rating  jersey team position      b_day  height  \\\n",
       "0           LeBron James      97      23  LAL        F 1984-12-30    6.76   \n",
       "1          Kawhi Leonard      97       2  LAC        F 1991-06-29    6.59   \n",
       "2  Giannis Antetokounmpo      96      34  MIL      F-G 1994-12-06    6.92   \n",
       "3           Kevin Durant      96       7  BKN        F 1988-09-29    6.82   \n",
       "4           James Harden      96      13  HOU        G 1989-08-26    6.43   \n",
       "\n",
       "   weight    salary country  draft_year  draft_round  draft_peak  \\\n",
       "0     250  37436858     USA        2003            1           1   \n",
       "1     225  32742000     USA        2011            1          15   \n",
       "2     242  25842697  Greece        2013            1          15   \n",
       "3     230  37199000     USA        2007            1           2   \n",
       "4     220  38199000     USA        2009            1           3   \n",
       "\n",
       "           college  version  \n",
       "0       No College  NBA2k20  \n",
       "1  San Diego State  NBA2k20  \n",
       "2       No College  NBA2k20  \n",
       "3            Texas  NBA2k20  \n",
       "4    Arizona State  NBA2k20  "
      ]
     },
     "execution_count": 13,
     "metadata": {},
     "output_type": "execute_result"
    }
   ],
   "source": [
    "# Inspect changes to data\n",
    "print(nba2k20_df.info())\n",
    "nba2k20_df.head()"
   ]
  },
  {
   "attachments": {},
   "cell_type": "markdown",
   "metadata": {},
   "source": [
    "### Analysis"
   ]
  },
  {
   "cell_type": "code",
   "execution_count": null,
   "metadata": {},
   "outputs": [],
   "source": []
  }
 ],
 "metadata": {
  "kernelspec": {
   "display_name": "base",
   "language": "python",
   "name": "python3"
  },
  "language_info": {
   "codemirror_mode": {
    "name": "ipython",
    "version": 3
   },
   "file_extension": ".py",
   "mimetype": "text/x-python",
   "name": "python",
   "nbconvert_exporter": "python",
   "pygments_lexer": "ipython3",
   "version": "3.10.11"
  },
  "orig_nbformat": 4
 },
 "nbformat": 4,
 "nbformat_minor": 2
}
